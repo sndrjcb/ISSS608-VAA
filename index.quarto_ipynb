{
  "cells": [
    {
      "cell_type": "markdown",
      "metadata": {},
      "source": [
        "---\n",
        "title: \"Visual Analytics & Applications\"\n",
        "subtitle: \"Sandra's Journey through Data Visualizations\"\n",
        "---\n",
        "\n",
        "```{css}\n",
        ".justify {\n",
        "  text-align: justify;\n",
        "}\n",
        "\n",
        "```\n",
        "\n",
        "\n",
        "Welcome to **ISSS608: Visual Analytics & Applications**!\n",
        "\n",
        "::: {.justify}\n",
        "This website showcases my learning journey for this course in the **AY2024–25 April** taught by **Professor Kam Tin Seong** at SMU. The course explores how visualizations can turn raw data into meaningful insights, using tools like Quarto for web-based reporting and Tableau for interactive dashboards. Throughout the semester, I’ll be sharing my coursework, projects, and reflections here — so stay tuned as this site evolves!\n",
        "\n",
        "I’m currently a full-time business analyst and a part-time MITB student, with a keen interest in data storytelling and analytics. My goal is to pivot into a data science role, combining analytical techniques with strong business intuition to solve real-world problems. When I’m not coding or studying, you can usually find me at the gym, painting on a quiet weekend, or planning my next travel adventure. Feel free to explore my site!\n",
        "\n",
        ":::\n",
        "\n",
        "![](images/Tech.jpg){fig-align=\"center\" width=\"273\" height=\"43\"}"
      ],
      "id": "9614b236"
    }
  ],
  "metadata": {
    "kernelspec": {
      "display_name": "Python 3",
      "language": "python",
      "name": "python3"
    }
  },
  "nbformat": 4,
  "nbformat_minor": 5
}